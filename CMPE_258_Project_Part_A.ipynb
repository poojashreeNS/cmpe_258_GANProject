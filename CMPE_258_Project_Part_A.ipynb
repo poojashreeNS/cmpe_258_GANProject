{
  "nbformat": 4,
  "nbformat_minor": 0,
  "metadata": {
    "colab": {
      "name": "CMPE-258-Project-Part-A.ipynb",
      "provenance": [],
      "collapsed_sections": []
    },
    "kernelspec": {
      "name": "python3",
      "display_name": "Python 3"
    },
    "language_info": {
      "name": "python"
    },
    "accelerator": "GPU"
  },
  "cells": [
    {
      "cell_type": "code",
      "execution_count": 5,
      "metadata": {
        "id": "zoS6W1oeKtgr"
      },
      "outputs": [],
      "source": [
        "import shutil\n",
        "import os\n",
        "import random\n",
        "import numpy as np\n",
        "import pandas as pd\n",
        "import matplotlib.pyplot as plt\n",
        "import seaborn as sns\n",
        "from tensorflow.random import set_seed\n",
        "import joblib\n",
        "from tensorflow.keras.models import Sequential\n",
        "from tensorflow.keras.layers import Conv2D,MaxPool2D,Flatten,Dense,Dropout\n",
        "from tensorflow.keras.preprocessing.image import ImageDataGenerator,img_to_array,load_img\n",
        "from tensorflow.keras.callbacks import EarlyStopping\n",
        "from sklearn.metrics import confusion_matrix\n",
        "from sklearn.metrics import classification_report"
      ]
    },
    {
      "cell_type": "code",
      "source": [
        "from google.colab import drive\n",
        "drive.mount('/content/drive')"
      ],
      "metadata": {
        "colab": {
          "base_uri": "https://localhost:8080/"
        },
        "id": "FBrSPEePxeYn",
        "outputId": "c8d00cff-5d7a-41e6-f2b3-67574f058135"
      },
      "execution_count": 2,
      "outputs": [
        {
          "output_type": "stream",
          "name": "stdout",
          "text": [
            "Drive already mounted at /content/drive; to attempt to forcibly remount, call drive.mount(\"/content/drive\", force_remount=True).\n"
          ]
        }
      ]
    },
    {
      "cell_type": "code",
      "source": [
        "# with_mask_images = os.listdir(\"/content/drive/MyDrive/CMPE-257-project-Data/with_mask\")\n",
        "# without_mask_images = os.listdir(\"/content/drive/MyDrive/CMPE-257-project-Data/without_mask\")"
      ],
      "metadata": {
        "id": "cRap5NERLBBy"
      },
      "execution_count": null,
      "outputs": []
    },
    {
      "cell_type": "code",
      "source": [
        "# os.mkdir(\"/content/drive/MyDrive/CMPE-257-project-Data/train\")\n",
        "# os.mkdir(\"/content/drive/MyDrive/CMPE-257-project-Data/train/with_mask\")\n",
        "# os.mkdir(\"/content/drive/MyDrive/CMPE-257-project-Data/val\")\n",
        "# os.mkdir(\"/content/drive/MyDrive/CMPE-257-project-Data/val/with_mask\")\n",
        "# os.mkdir(\"/content/drive/MyDrive/CMPE-257-project-Data/test\")\n",
        "# os.mkdir(\"/content/drive/MyDrive/CMPE-257-project-Data/test/with_mask\")\n",
        "\n",
        "\n",
        "# os.mkdir(\"/content/drive/MyDrive/CMPE-257-project-Data/train/without_mask\")\n",
        "# os.mkdir(\"/content/drive/MyDrive/CMPE-257-project-Data/val/without_mask\")\n",
        "# os.mkdir(\"/content/drive/MyDrive/CMPE-257-project-Data/test/without_mask\")\n",
        "\n",
        "# with_mask_train_len = int(np.round(0.7 * len(with_mask_images),0))\n",
        "# with_mask_val_len = int(np.round(0.85 * len(with_mask_images),0))\n",
        "\n",
        "# for i in range(with_mask_train_len):\n",
        "#     shutil.copy(os.path.join(\"/content/drive/MyDrive/CMPE-257-project-Data/with_mask\",with_mask_images[i]),\"/content/drive/MyDrive/CMPE-257-project-Data/train/with_mask\")\n",
        "    \n",
        "# for i in range(with_mask_train_len,with_mask_val_len):\n",
        "#     shutil.copy(os.path.join(\"/content/drive/MyDrive/CMPE-257-project-Data/with_mask\",with_mask_images[i]),\"/content/drive/MyDrive/CMPE-257-project-Data/val/with_mask\")\n",
        "    \n",
        "# for i in range(with_mask_val_len,len(with_mask_images)):\n",
        "#     shutil.copy(os.path.join(\"/content/drive/MyDrive/CMPE-257-project-Data/with_mask\",with_mask_images[i]),\"/content/drive/MyDrive/CMPE-257-project-Data/test/with_mask\")\n",
        "\n",
        "# without_mask_train_len = int(np.round(0.7 * len(without_mask_images),0))\n",
        "# without_mask_val_len = int(np.round(0.85 * len(without_mask_images),0))\n",
        "\n",
        "# for i in range(without_mask_train_len):\n",
        "#     shutil.copy(os.path.join(\"/content/drive/MyDrive/CMPE-257-project-Data/without_mask\",without_mask_images[i]),\"/content/drive/MyDrive/CMPE-257-project-Data/train/without_mask\")\n",
        "    \n",
        "# for i in range(without_mask_train_len,without_mask_val_len):\n",
        "#     shutil.copy(os.path.join(\"/content/drive/MyDrive/CMPE-257-project-Data/without_mask\",without_mask_images[i]),\"/content/drive/MyDrive/CMPE-257-project-Data/val/without_mask\")\n",
        "    \n",
        "# for i in range(without_mask_val_len,len(without_mask_images)):\n",
        "#     shutil.copy(os.path.join(\"/content/drive/MyDrive/CMPE-257-project-Data/without_mask\",without_mask_images[i]),\"/content/drive/MyDrive/CMPE-257-project-Data/test/without_mask\")"
      ],
      "metadata": {
        "id": "xk9m3yObx3fR"
      },
      "execution_count": null,
      "outputs": []
    },
    {
      "cell_type": "code",
      "source": [
        "PATH_TRAIN_MASK = \"/content/drive/MyDrive/CMPE-257-project-Data/train/with_mask\"\n",
        "PATH_VAL_MASK = \"/content/drive/MyDrive/CMPE-257-project-Data/val/with_mask\"\n",
        "PATH_TEST_MASK = \"/content/drive/MyDrive/CMPE-257-project-Data/test/with_mask\"\n",
        "\n",
        "PATH_TRAIN_NO_MASK = \"/content/drive/MyDrive/CMPE-257-project-Data/train/without_mask\"\n",
        "PATH_VAL_NO_MASK = \"/content/drive/MyDrive/CMPE-257-project-Data/val/without_mask\"\n",
        "PATH_TEST_NO_MASK = \"/content/drive/MyDrive/CMPE-257-project-Data/test/without_mask\"\n",
        "\n",
        "PATH_TRAIN = \"/content/drive/MyDrive/CMPE-257-project-Data/train\"\n",
        "PATH_VAL = \"/content/drive/MyDrive/CMPE-257-project-Data/val\"\n",
        "PATH_TEST = \"/content/drive/MyDrive/CMPE-257-project-Data/test\""
      ],
      "metadata": {
        "id": "1XWXR20G6b1y"
      },
      "execution_count": 4,
      "outputs": []
    },
    {
      "cell_type": "markdown",
      "source": [
        "## **Model Generation**"
      ],
      "metadata": {
        "id": "uCkREIKf8jYW"
      }
    },
    {
      "cell_type": "code",
      "source": [
        "print(f'With Mask Train: {len(os.listdir(PATH_TRAIN_MASK))}\\n\\\n",
        "With Mask Validation: {len(os.listdir(PATH_VAL_MASK))}\\n\\\n",
        "With Mask Test: {len(os.listdir(PATH_TEST_MASK))}\\n\\\n",
        "With Mask Total: {len(os.listdir(PATH_TRAIN_MASK))+len(os.listdir(PATH_VAL_MASK))+len(os.listdir(PATH_TEST_MASK))}')"
      ],
      "metadata": {
        "colab": {
          "base_uri": "https://localhost:8080/"
        },
        "id": "WzMRINhp6V6w",
        "outputId": "362886f4-b401-48f3-9c4c-42f679d2740f"
      },
      "execution_count": 5,
      "outputs": [
        {
          "output_type": "stream",
          "name": "stdout",
          "text": [
            "With Mask Train: 2608\n",
            "With Mask Validation: 558\n",
            "With Mask Test: 559\n",
            "With Mask Total: 3725\n"
          ]
        }
      ]
    },
    {
      "cell_type": "code",
      "source": [
        "print(f'Without Mask Train: {len(os.listdir(PATH_TRAIN_NO_MASK))}\\n\\\n",
        "Without Mask Validation: {len(os.listdir(PATH_VAL_NO_MASK))}\\n\\\n",
        "Without Mask Test: {len(os.listdir(PATH_TEST_NO_MASK))}\\n\\\n",
        "Without Mask Total: {len(os.listdir(PATH_TRAIN_NO_MASK))+len(os.listdir(PATH_VAL_NO_MASK))+len(os.listdir(PATH_TEST_NO_MASK))}')"
      ],
      "metadata": {
        "colab": {
          "base_uri": "https://localhost:8080/"
        },
        "id": "NZX3HT2X6YnH",
        "outputId": "8fbe65d6-0859-4bb5-a19e-8066836e5db9"
      },
      "execution_count": 6,
      "outputs": [
        {
          "output_type": "stream",
          "name": "stdout",
          "text": [
            "Without Mask Train: 2687\n",
            "Without Mask Validation: 575\n",
            "Without Mask Test: 576\n",
            "Without Mask Total: 3838\n"
          ]
        }
      ]
    },
    {
      "cell_type": "code",
      "source": [
        "train_mask_files = os.listdir(PATH_TRAIN_MASK)\n",
        "train_no_mask_files = os.listdir(PATH_TRAIN_NO_MASK)"
      ],
      "metadata": {
        "id": "lRfDVqsnvnQb"
      },
      "execution_count": 7,
      "outputs": []
    },
    {
      "cell_type": "code",
      "source": [
        "rows=20 #rows in subplots\n",
        "cols=5 #columns in subplots\n",
        "\n",
        "fig,ax = plt.subplots(rows,cols,figsize=(12,100))\n",
        "r = 0\n",
        "c = 0\n",
        "for i in range(rows*cols):\n",
        "    aa = plt.imread(os.path.join(PATH_TRAIN_NO_MASK,train_no_mask_files[i]))\n",
        "    ax[r,c].axis(\"off\")\n",
        "    ax[r,c].imshow(aa)\n",
        "    c+=1\n",
        "    if c == cols:\n",
        "        c=0\n",
        "        r+=1\n",
        "plt.show()"
      ],
      "metadata": {
        "id": "qgFW31w5v0f5"
      },
      "execution_count": null,
      "outputs": []
    },
    {
      "cell_type": "code",
      "source": [
        "rows=20 #rows in subplots\n",
        "cols=5 #columns in subplots\n",
        "\n",
        "fig,ax = plt.subplots(rows,cols,figsize=(12,100))\n",
        "r = 0\n",
        "c = 0\n",
        "for i in range(rows*cols):\n",
        "    aa = plt.imread(os.path.join(PATH_TRAIN_MASK,train_mask_files[i]))\n",
        "    ax[r,c].axis(\"off\")\n",
        "    ax[r,c].imshow(aa)\n",
        "    c+=1\n",
        "    if c == cols:\n",
        "        c=0\n",
        "        r+=1\n",
        "plt.show()"
      ],
      "metadata": {
        "id": "_LXOPH07v1H7"
      },
      "execution_count": null,
      "outputs": []
    },
    {
      "cell_type": "markdown",
      "source": [
        "**Getting height and width of images into an array**"
      ],
      "metadata": {
        "id": "pVur0QbOw9Zx"
      }
    },
    {
      "cell_type": "code",
      "source": [
        "for i in range(len(train_mask_files)):\n",
        "    train_image_shape = plt.imread(os.path.join(PATH_TRAIN_MASK,train_mask_files[i])).shape\n",
        "    if i==0:\n",
        "        width = train_image_shape[0]\n",
        "        height = train_image_shape[1]\n",
        "    else:\n",
        "        width = np.append(width,train_image_shape[0])\n",
        "        height = np.append(height,train_image_shape[1])\n",
        "        \n",
        "for i in range(len(train_no_mask_files)):\n",
        "    train_image_shape = plt.imread(os.path.join(PATH_TRAIN_NO_MASK,train_no_mask_files[i])).shape\n",
        "    width = np.append(width,train_image_shape[0])\n",
        "    height = np.append(height,train_image_shape[1])"
      ],
      "metadata": {
        "id": "KT96A2zrwr6Y"
      },
      "execution_count": null,
      "outputs": []
    },
    {
      "cell_type": "code",
      "source": [
        "sns.jointplot(width[width<400][:(min(len(width[width<400]),len(height[height<400])))],height[height<400][:(min(len(width[width<400]),len(height[height<400])))])\n",
        "plt.xlabel(\"Width\")\n",
        "plt.ylabel(\"Height\");"
      ],
      "metadata": {
        "id": "66GX81wPw8jT"
      },
      "execution_count": null,
      "outputs": []
    },
    {
      "cell_type": "markdown",
      "source": [
        "**explain plot**"
      ],
      "metadata": {
        "id": "xEs-DR0QxVrV"
      }
    },
    {
      "cell_type": "code",
      "source": [
        "train_data_gen = ImageDataGenerator(rotation_range=30,\n",
        "                                    width_shift_range=0.02,\n",
        "                                    height_shift_range=0.02,\n",
        "                                    zoom_range=[0.8,1.2],\n",
        "                                    horizontal_flip=True,\n",
        "                                    rescale=1/255\n",
        "                                   )\n",
        "\n",
        "val_data_gen = ImageDataGenerator(rescale=1/255)\n",
        "test_data_gen = ImageDataGenerator(rescale=1/255)"
      ],
      "metadata": {
        "id": "cyb_x2dvxVFR"
      },
      "execution_count": null,
      "outputs": []
    },
    {
      "cell_type": "markdown",
      "source": [
        "**Trying Augmentation**"
      ],
      "metadata": {
        "id": "FLPxpHkcxjCh"
      }
    },
    {
      "cell_type": "code",
      "source": [
        "fig,ax = plt.subplots(1,5,figsize=(15,15))\n",
        "r = random.sample(range(len(train_mask_files)),1)[0]\n",
        "ax[0].imshow(plt.imread(os.path.join(PATH_TRAIN_MASK,train_mask_files[r])))\n",
        "ax[0].set_title(\"Original\")\n",
        "ax[0].axis(\"off\")\n",
        "for i in range(1,5):\n",
        "    ax[i].imshow(train_data_gen.random_transform(plt.imread(os.path.join(PATH_TRAIN_MASK,train_mask_files[r]))))\n",
        "    ax[i].set_title(\"Augmented\")\n",
        "    ax[i].axis(\"off\")\n",
        "plt.show()\n"
      ],
      "metadata": {
        "id": "OyiNS2QfxeXu"
      },
      "execution_count": null,
      "outputs": []
    },
    {
      "cell_type": "code",
      "source": [
        "fig,ax = plt.subplots(1,5,figsize=(15,15))\n",
        "r = random.sample(range(len(train_no_mask_files)),1)[0]\n",
        "ax[0].imshow(plt.imread(os.path.join(PATH_TRAIN_NO_MASK,train_no_mask_files[r])))\n",
        "ax[0].set_title(\"Original\")\n",
        "ax[0].axis(\"off\")\n",
        "for i in range(1,5):\n",
        "    ax[i].imshow(train_data_gen.random_transform(plt.imread(os.path.join(PATH_TRAIN_NO_MASK,train_no_mask_files[r]))))\n",
        "    ax[i].set_title(\"Augmented\")\n",
        "    ax[i].axis(\"off\")\n",
        "plt.show()"
      ],
      "metadata": {
        "id": "hPBs4htHxtLN"
      },
      "execution_count": null,
      "outputs": []
    },
    {
      "cell_type": "code",
      "source": [
        "set_seed(11)\n",
        "random.seed(11)\n",
        "np.random.seed(11)\n",
        "BATCH_SIZE = 32\n",
        "training_data = train_data_gen.flow_from_directory(PATH_TRAIN,\n",
        "                                                   target_size=(200,200),\n",
        "                                                   color_mode=\"rgb\",\n",
        "                                                   class_mode=\"binary\",\n",
        "                                                   batch_size=BATCH_SIZE,\n",
        "                                                   seed=11)\n",
        "\n",
        "val_data = val_data_gen.flow_from_directory(PATH_VAL,\n",
        "                             target_size=(200,200),\n",
        "                             color_mode=\"rgb\",\n",
        "                             class_mode=\"binary\",\n",
        "                             batch_size=BATCH_SIZE,\n",
        "                             seed=11,shuffle=False)\n",
        "\n",
        "test_data = test_data_gen.flow_from_directory(PATH_TEST,\n",
        "                             target_size=(200,200),\n",
        "                             color_mode=\"rgb\",\n",
        "                             class_mode=\"binary\",\n",
        "                             batch_size=BATCH_SIZE,\n",
        "                             seed=11,shuffle=False)"
      ],
      "metadata": {
        "id": "B0c3ofiKxyyJ"
      },
      "execution_count": null,
      "outputs": []
    },
    {
      "cell_type": "code",
      "source": [
        "training_data.image_shape"
      ],
      "metadata": {
        "id": "cDCCPYVnyAJo"
      },
      "execution_count": null,
      "outputs": []
    },
    {
      "cell_type": "code",
      "source": [
        "random.seed(11)\n",
        "set_seed(11)\n",
        "np.random.seed(11)\n",
        "\n",
        "INPUT_SHAPE = training_data.image_shape\n",
        "\n",
        "model = Sequential()\n",
        "\n",
        "model.add(Conv2D(filters=64,kernel_size=3,strides=1,activation=\"relu\",input_shape=INPUT_SHAPE))\n",
        "model.add(Conv2D(filters=64,kernel_size=3,strides=1,activation=\"relu\"))\n",
        "model.add(MaxPool2D(pool_size=(2,2),strides=(2,2),padding=\"same\"))\n",
        "\n",
        "model.add(Conv2D(filters=128,kernel_size=3,strides=1,activation=\"relu\"))\n",
        "model.add(Conv2D(filters=128,kernel_size=3,strides=1,activation=\"relu\"))\n",
        "model.add(MaxPool2D(pool_size=(2,2),strides=(2,2),padding=\"same\"))\n",
        "\n",
        "model.add(Conv2D(filters=256,kernel_size=3,strides=1,activation=\"relu\"))\n",
        "model.add(MaxPool2D(pool_size=(2,2),strides=(2,2),padding=\"same\"))\n",
        "\n",
        "model.add(Conv2D(filters=512,kernel_size=3,strides=1,activation=\"relu\"))\n",
        "model.add(MaxPool2D(pool_size=(2,2),strides=(2,2),padding=\"same\"))\n",
        "\n",
        "\n",
        "model.add(Flatten())\n",
        "\n",
        "model.add(Dense(units=512,activation=\"relu\"))\n",
        "model.add(Dropout(0.5))\n",
        "model.add(Dense(units=1024,activation=\"relu\"))\n",
        "model.add(Dropout(0.5))\n",
        "model.add(Dense(units=1,activation=\"sigmoid\"))\n",
        "\n",
        "model.compile(optimizer=\"adam\",loss=\"binary_crossentropy\",metrics=[\"binary_accuracy\"])"
      ],
      "metadata": {
        "id": "knaqYeIHyGyB"
      },
      "execution_count": 16,
      "outputs": []
    },
    {
      "cell_type": "code",
      "source": [
        "early_stop = EarlyStopping(monitor=\"val_loss\",patience=4,mode=\"min\")"
      ],
      "metadata": {
        "id": "2y7dJtYhyVJI"
      },
      "execution_count": 17,
      "outputs": []
    },
    {
      "cell_type": "code",
      "source": [
        "random.seed(11)\n",
        "set_seed(11)\n",
        "np.random.seed(11)\n",
        "history = model.fit(training_data,batch_size=32,epochs=10,callbacks=early_stop,validation_data=val_data)"
      ],
      "metadata": {
        "colab": {
          "base_uri": "https://localhost:8080/"
        },
        "id": "_dmfYFfQyXXU",
        "outputId": "a7d88a58-370e-4477-989a-1cfee7e00ec1"
      },
      "execution_count": 18,
      "outputs": [
        {
          "output_type": "stream",
          "name": "stdout",
          "text": [
            "Epoch 1/10\n",
            " 21/166 [==>...........................] - ETA: 1:00 - loss: 0.6886 - binary_accuracy: 0.5670"
          ]
        },
        {
          "output_type": "stream",
          "name": "stderr",
          "text": [
            "/usr/local/lib/python3.7/dist-packages/PIL/Image.py:960: UserWarning: Palette images with Transparency expressed in bytes should be converted to RGBA images\n",
            "  \"Palette images with Transparency expressed in bytes should be \"\n"
          ]
        },
        {
          "output_type": "stream",
          "name": "stdout",
          "text": [
            "166/166 [==============================] - 408s 2s/step - loss: 0.4239 - binary_accuracy: 0.8038 - val_loss: 0.3070 - val_binary_accuracy: 0.8667\n",
            "Epoch 2/10\n",
            "166/166 [==============================] - 77s 460ms/step - loss: 0.2722 - binary_accuracy: 0.8958 - val_loss: 0.2490 - val_binary_accuracy: 0.8950\n",
            "Epoch 3/10\n",
            "166/166 [==============================] - 76s 458ms/step - loss: 0.2620 - binary_accuracy: 0.8988 - val_loss: 0.2289 - val_binary_accuracy: 0.9250\n",
            "Epoch 4/10\n",
            "166/166 [==============================] - 76s 458ms/step - loss: 0.2295 - binary_accuracy: 0.9194 - val_loss: 0.2223 - val_binary_accuracy: 0.9144\n",
            "Epoch 5/10\n",
            "166/166 [==============================] - 76s 456ms/step - loss: 0.2069 - binary_accuracy: 0.9265 - val_loss: 0.1500 - val_binary_accuracy: 0.9426\n",
            "Epoch 6/10\n",
            "166/166 [==============================] - 76s 458ms/step - loss: 0.1907 - binary_accuracy: 0.9358 - val_loss: 0.1868 - val_binary_accuracy: 0.9391\n",
            "Epoch 7/10\n",
            "166/166 [==============================] - 76s 457ms/step - loss: 0.1832 - binary_accuracy: 0.9348 - val_loss: 0.1910 - val_binary_accuracy: 0.9382\n",
            "Epoch 8/10\n",
            "166/166 [==============================] - 76s 456ms/step - loss: 0.1799 - binary_accuracy: 0.9339 - val_loss: 0.1671 - val_binary_accuracy: 0.9453\n",
            "Epoch 9/10\n",
            "166/166 [==============================] - 76s 458ms/step - loss: 0.1631 - binary_accuracy: 0.9420 - val_loss: 0.1395 - val_binary_accuracy: 0.9550\n",
            "Epoch 10/10\n",
            "166/166 [==============================] - 76s 457ms/step - loss: 0.1436 - binary_accuracy: 0.9466 - val_loss: 0.1795 - val_binary_accuracy: 0.9435\n"
          ]
        }
      ]
    },
    {
      "cell_type": "code",
      "source": [
        "import joblib\n",
        "joblib.dump(model, '/content/drive/MyDrive/CMPE-257-project-Data/part-a-model.sav')"
      ],
      "metadata": {
        "id": "uPYgNyKHzaYI",
        "colab": {
          "base_uri": "https://localhost:8080/"
        },
        "outputId": "dbdbd5d9-5b56-4a7c-90fa-03bff907dd64"
      },
      "execution_count": 19,
      "outputs": [
        {
          "output_type": "stream",
          "name": "stdout",
          "text": [
            "INFO:tensorflow:Assets written to: ram://7b92c5a7-9487-4f03-90a1-6fb1158ec9f0/assets\n"
          ]
        },
        {
          "output_type": "execute_result",
          "data": {
            "text/plain": [
              "['/content/drive/MyDrive/CMPE-257-project-Data/part-a-model.sav']"
            ]
          },
          "metadata": {},
          "execution_count": 19
        }
      ]
    },
    {
      "cell_type": "code",
      "source": [
        "#Dataframe capturing the accuracy and loss per epoch\n",
        "loss_df = pd.DataFrame(history.history)\n",
        "loss_df"
      ],
      "metadata": {
        "id": "eFJznd_AygnT",
        "colab": {
          "base_uri": "https://localhost:8080/",
          "height": 363
        },
        "outputId": "12cbd405-bdbb-47c2-d5db-debc4d24968c"
      },
      "execution_count": 20,
      "outputs": [
        {
          "output_type": "execute_result",
          "data": {
            "text/plain": [
              "       loss  binary_accuracy  val_loss  val_binary_accuracy\n",
              "0  0.423865         0.803777  0.307001             0.866726\n",
              "1  0.272191         0.895751  0.248997             0.894969\n",
              "2  0.261980         0.898772  0.228889             0.924978\n",
              "3  0.229541         0.919358  0.222257             0.914387\n",
              "4  0.206886         0.926534  0.149954             0.942630\n",
              "5  0.190659         0.935788  0.186766             0.939100\n",
              "6  0.183194         0.934844  0.191043             0.938217\n",
              "7  0.179915         0.933900  0.167085             0.945278\n",
              "8  0.163061         0.942021  0.139541             0.954987\n",
              "9  0.143577         0.946553  0.179490             0.943513"
            ],
            "text/html": [
              "\n",
              "  <div id=\"df-ef32920a-504b-4f7c-bb87-1495f1001967\">\n",
              "    <div class=\"colab-df-container\">\n",
              "      <div>\n",
              "<style scoped>\n",
              "    .dataframe tbody tr th:only-of-type {\n",
              "        vertical-align: middle;\n",
              "    }\n",
              "\n",
              "    .dataframe tbody tr th {\n",
              "        vertical-align: top;\n",
              "    }\n",
              "\n",
              "    .dataframe thead th {\n",
              "        text-align: right;\n",
              "    }\n",
              "</style>\n",
              "<table border=\"1\" class=\"dataframe\">\n",
              "  <thead>\n",
              "    <tr style=\"text-align: right;\">\n",
              "      <th></th>\n",
              "      <th>loss</th>\n",
              "      <th>binary_accuracy</th>\n",
              "      <th>val_loss</th>\n",
              "      <th>val_binary_accuracy</th>\n",
              "    </tr>\n",
              "  </thead>\n",
              "  <tbody>\n",
              "    <tr>\n",
              "      <th>0</th>\n",
              "      <td>0.423865</td>\n",
              "      <td>0.803777</td>\n",
              "      <td>0.307001</td>\n",
              "      <td>0.866726</td>\n",
              "    </tr>\n",
              "    <tr>\n",
              "      <th>1</th>\n",
              "      <td>0.272191</td>\n",
              "      <td>0.895751</td>\n",
              "      <td>0.248997</td>\n",
              "      <td>0.894969</td>\n",
              "    </tr>\n",
              "    <tr>\n",
              "      <th>2</th>\n",
              "      <td>0.261980</td>\n",
              "      <td>0.898772</td>\n",
              "      <td>0.228889</td>\n",
              "      <td>0.924978</td>\n",
              "    </tr>\n",
              "    <tr>\n",
              "      <th>3</th>\n",
              "      <td>0.229541</td>\n",
              "      <td>0.919358</td>\n",
              "      <td>0.222257</td>\n",
              "      <td>0.914387</td>\n",
              "    </tr>\n",
              "    <tr>\n",
              "      <th>4</th>\n",
              "      <td>0.206886</td>\n",
              "      <td>0.926534</td>\n",
              "      <td>0.149954</td>\n",
              "      <td>0.942630</td>\n",
              "    </tr>\n",
              "    <tr>\n",
              "      <th>5</th>\n",
              "      <td>0.190659</td>\n",
              "      <td>0.935788</td>\n",
              "      <td>0.186766</td>\n",
              "      <td>0.939100</td>\n",
              "    </tr>\n",
              "    <tr>\n",
              "      <th>6</th>\n",
              "      <td>0.183194</td>\n",
              "      <td>0.934844</td>\n",
              "      <td>0.191043</td>\n",
              "      <td>0.938217</td>\n",
              "    </tr>\n",
              "    <tr>\n",
              "      <th>7</th>\n",
              "      <td>0.179915</td>\n",
              "      <td>0.933900</td>\n",
              "      <td>0.167085</td>\n",
              "      <td>0.945278</td>\n",
              "    </tr>\n",
              "    <tr>\n",
              "      <th>8</th>\n",
              "      <td>0.163061</td>\n",
              "      <td>0.942021</td>\n",
              "      <td>0.139541</td>\n",
              "      <td>0.954987</td>\n",
              "    </tr>\n",
              "    <tr>\n",
              "      <th>9</th>\n",
              "      <td>0.143577</td>\n",
              "      <td>0.946553</td>\n",
              "      <td>0.179490</td>\n",
              "      <td>0.943513</td>\n",
              "    </tr>\n",
              "  </tbody>\n",
              "</table>\n",
              "</div>\n",
              "      <button class=\"colab-df-convert\" onclick=\"convertToInteractive('df-ef32920a-504b-4f7c-bb87-1495f1001967')\"\n",
              "              title=\"Convert this dataframe to an interactive table.\"\n",
              "              style=\"display:none;\">\n",
              "        \n",
              "  <svg xmlns=\"http://www.w3.org/2000/svg\" height=\"24px\"viewBox=\"0 0 24 24\"\n",
              "       width=\"24px\">\n",
              "    <path d=\"M0 0h24v24H0V0z\" fill=\"none\"/>\n",
              "    <path d=\"M18.56 5.44l.94 2.06.94-2.06 2.06-.94-2.06-.94-.94-2.06-.94 2.06-2.06.94zm-11 1L8.5 8.5l.94-2.06 2.06-.94-2.06-.94L8.5 2.5l-.94 2.06-2.06.94zm10 10l.94 2.06.94-2.06 2.06-.94-2.06-.94-.94-2.06-.94 2.06-2.06.94z\"/><path d=\"M17.41 7.96l-1.37-1.37c-.4-.4-.92-.59-1.43-.59-.52 0-1.04.2-1.43.59L10.3 9.45l-7.72 7.72c-.78.78-.78 2.05 0 2.83L4 21.41c.39.39.9.59 1.41.59.51 0 1.02-.2 1.41-.59l7.78-7.78 2.81-2.81c.8-.78.8-2.07 0-2.86zM5.41 20L4 18.59l7.72-7.72 1.47 1.35L5.41 20z\"/>\n",
              "  </svg>\n",
              "      </button>\n",
              "      \n",
              "  <style>\n",
              "    .colab-df-container {\n",
              "      display:flex;\n",
              "      flex-wrap:wrap;\n",
              "      gap: 12px;\n",
              "    }\n",
              "\n",
              "    .colab-df-convert {\n",
              "      background-color: #E8F0FE;\n",
              "      border: none;\n",
              "      border-radius: 50%;\n",
              "      cursor: pointer;\n",
              "      display: none;\n",
              "      fill: #1967D2;\n",
              "      height: 32px;\n",
              "      padding: 0 0 0 0;\n",
              "      width: 32px;\n",
              "    }\n",
              "\n",
              "    .colab-df-convert:hover {\n",
              "      background-color: #E2EBFA;\n",
              "      box-shadow: 0px 1px 2px rgba(60, 64, 67, 0.3), 0px 1px 3px 1px rgba(60, 64, 67, 0.15);\n",
              "      fill: #174EA6;\n",
              "    }\n",
              "\n",
              "    [theme=dark] .colab-df-convert {\n",
              "      background-color: #3B4455;\n",
              "      fill: #D2E3FC;\n",
              "    }\n",
              "\n",
              "    [theme=dark] .colab-df-convert:hover {\n",
              "      background-color: #434B5C;\n",
              "      box-shadow: 0px 1px 3px 1px rgba(0, 0, 0, 0.15);\n",
              "      filter: drop-shadow(0px 1px 2px rgba(0, 0, 0, 0.3));\n",
              "      fill: #FFFFFF;\n",
              "    }\n",
              "  </style>\n",
              "\n",
              "      <script>\n",
              "        const buttonEl =\n",
              "          document.querySelector('#df-ef32920a-504b-4f7c-bb87-1495f1001967 button.colab-df-convert');\n",
              "        buttonEl.style.display =\n",
              "          google.colab.kernel.accessAllowed ? 'block' : 'none';\n",
              "\n",
              "        async function convertToInteractive(key) {\n",
              "          const element = document.querySelector('#df-ef32920a-504b-4f7c-bb87-1495f1001967');\n",
              "          const dataTable =\n",
              "            await google.colab.kernel.invokeFunction('convertToInteractive',\n",
              "                                                     [key], {});\n",
              "          if (!dataTable) return;\n",
              "\n",
              "          const docLinkHtml = 'Like what you see? Visit the ' +\n",
              "            '<a target=\"_blank\" href=https://colab.research.google.com/notebooks/data_table.ipynb>data table notebook</a>'\n",
              "            + ' to learn more about interactive tables.';\n",
              "          element.innerHTML = '';\n",
              "          dataTable['output_type'] = 'display_data';\n",
              "          await google.colab.output.renderOutput(dataTable, element);\n",
              "          const docLink = document.createElement('div');\n",
              "          docLink.innerHTML = docLinkHtml;\n",
              "          element.appendChild(docLink);\n",
              "        }\n",
              "      </script>\n",
              "    </div>\n",
              "  </div>\n",
              "  "
            ]
          },
          "metadata": {},
          "execution_count": 20
        }
      ]
    },
    {
      "cell_type": "code",
      "source": [
        "loss_df.plot();"
      ],
      "metadata": {
        "id": "Y-mSTY1Oyhdf",
        "colab": {
          "base_uri": "https://localhost:8080/",
          "height": 265
        },
        "outputId": "0cd82c72-2cfc-46f2-f17b-f19e1f9f2d64"
      },
      "execution_count": 21,
      "outputs": [
        {
          "output_type": "display_data",
          "data": {
            "text/plain": [
              "<Figure size 432x288 with 1 Axes>"
            ],
            "image/png": "[encoded data removed]"
          },
          "metadata": {
            "needs_background": "light"
          }
        }
      ]
    },
    {
      "cell_type": "code",
      "source": [
        "model.evaluate(test_data)"
      ],
      "metadata": {
        "id": "4DyyVLJ8yln6",
        "colab": {
          "base_uri": "https://localhost:8080/"
        },
        "outputId": "bf9b8590-ca3f-4881-f021-396b193a9187"
      },
      "execution_count": 22,
      "outputs": [
        {
          "output_type": "stream",
          "name": "stdout",
          "text": [
            "36/36 [==============================] - 290s 8s/step - loss: 0.1061 - binary_accuracy: 0.9612\n"
          ]
        },
        {
          "output_type": "execute_result",
          "data": {
            "text/plain": [
              "[0.10609594732522964, 0.9612334966659546]"
            ]
          },
          "metadata": {},
          "execution_count": 22
        }
      ]
    },
    {
      "cell_type": "code",
      "source": [
        "prediction = model.predict(test_data).flatten()\n",
        "prediction = np.round(prediction) \n",
        "prediction"
      ],
      "metadata": {
        "id": "YXFQGDa2yxxm",
        "colab": {
          "base_uri": "https://localhost:8080/"
        },
        "outputId": "7d8b7e5d-19ea-42c8-8083-443aa7c2cd89"
      },
      "execution_count": 23,
      "outputs": [
        {
          "output_type": "execute_result",
          "data": {
            "text/plain": [
              "array([0., 0., 0., ..., 1., 1., 1.], dtype=float32)"
            ]
          },
          "metadata": {},
          "execution_count": 23
        }
      ]
    },
    {
      "cell_type": "code",
      "source": [
        "y_test = test_data.classes"
      ],
      "metadata": {
        "id": "x4IGy-KuzDU8"
      },
      "execution_count": 24,
      "outputs": []
    },
    {
      "cell_type": "code",
      "source": [
        "sns.heatmap(confusion_matrix(y_test,prediction),annot=True,cbar=False,fmt=\"d\")\n",
        "plt.xlabel(\"Prediction\")\n",
        "plt.ylabel(\"Actual\");"
      ],
      "metadata": {
        "id": "kYn7IToXy74a",
        "colab": {
          "base_uri": "https://localhost:8080/",
          "height": 279
        },
        "outputId": "295dd7cd-4f57-4e65-e713-3edc78432103"
      },
      "execution_count": 25,
      "outputs": [
        {
          "output_type": "display_data",
          "data": {
            "text/plain": [
              "<Figure size 432x288 with 1 Axes>"
            ],
            "image/png": "[encoded data removed]"
          },
          "metadata": {
            "needs_background": "light"
          }
        }
      ]
    },
    {
      "cell_type": "code",
      "source": [
        "print(classification_report(y_test,prediction))"
      ],
      "metadata": {
        "id": "dnAqRnFGy8sp",
        "colab": {
          "base_uri": "https://localhost:8080/"
        },
        "outputId": "2d0df20e-3f2f-40b6-f4d8-b74e63cce7c7"
      },
      "execution_count": 26,
      "outputs": [
        {
          "output_type": "stream",
          "name": "stdout",
          "text": [
            "              precision    recall  f1-score   support\n",
            "\n",
            "           0       0.97      0.96      0.96       559\n",
            "           1       0.96      0.97      0.96       576\n",
            "\n",
            "    accuracy                           0.96      1135\n",
            "   macro avg       0.96      0.96      0.96      1135\n",
            "weighted avg       0.96      0.96      0.96      1135\n",
            "\n"
          ]
        }
      ]
    },
    {
      "cell_type": "markdown",
      "source": [
        "## **Prediction**"
      ],
      "metadata": {
        "id": "7dnQYI6v3Usc"
      }
    },
    {
      "cell_type": "code",
      "source": [
        "def preprocessing():\n",
        "  model = joblib.load('/content/drive/MyDrive/CMPE-257-project-Data/part-a-model.sav')\n",
        "  test_data_gen = ImageDataGenerator(rescale=1/255)\n",
        "  test_data = test_data_gen.flow_from_directory(\"/content/drive/MyDrive/CMPE-257-project-Data/test\",\n",
        "                             target_size=(200,200),\n",
        "                             color_mode=\"rgb\",\n",
        "                             class_mode=\"binary\",\n",
        "                             batch_size=32,\n",
        "                             seed=11,shuffle=False)\n",
        "  prediction = model.predict(test_data).flatten()\n",
        "  prediction = np.round(prediction)\n",
        "\n",
        "  for i in range(len(test_data)):\n",
        "    if prediction[i] == 1:\n",
        "      img = test_data.filenames[i]\n",
        "      print(img)\n",
        "      print('no mask')\n",
        "    else:\n",
        "      img = test_data.filenames[i]\n",
        "      print(img)\n",
        "      print('has mask')"
      ],
      "metadata": {
        "id": "HYTT50ka69DB"
      },
      "execution_count": 25,
      "outputs": []
    },
    {
      "cell_type": "code",
      "source": [
        "preprocessing()"
      ],
      "metadata": {
        "colab": {
          "base_uri": "https://localhost:8080/"
        },
        "id": "lZ94jw7ZVnwr",
        "outputId": "59af02ef-c2ca-4b04-9000-69696d2f28db"
      },
      "execution_count": 27,
      "outputs": [
        {
          "output_type": "stream",
          "name": "stdout",
          "text": [
            "Found 1135 images belonging to 2 classes.\n",
            "with_mask/with_mask_1127.jpg\n",
            "has mask\n",
            "with_mask/with_mask_1128.jpg\n",
            "has mask\n",
            "with_mask/with_mask_1129.jpg\n",
            "has mask\n",
            "with_mask/with_mask_113.jpg\n",
            "has mask\n",
            "with_mask/with_mask_1131.jpg\n",
            "has mask\n",
            "with_mask/with_mask_1134.jpg\n",
            "has mask\n",
            "with_mask/with_mask_1136.jpg\n",
            "has mask\n",
            "with_mask/with_mask_1138.jpg\n",
            "has mask\n",
            "with_mask/with_mask_1139.jpg\n",
            "has mask\n",
            "with_mask/with_mask_114.jpg\n",
            "has mask\n",
            "with_mask/with_mask_1141.jpg\n",
            "has mask\n",
            "with_mask/with_mask_1143.jpg\n",
            "has mask\n",
            "with_mask/with_mask_1146.jpg\n",
            "has mask\n",
            "with_mask/with_mask_1149.jpg\n",
            "has mask\n",
            "with_mask/with_mask_1153.jpg\n",
            "has mask\n",
            "with_mask/with_mask_1155.jpg\n",
            "has mask\n",
            "with_mask/with_mask_1156.jpg\n",
            "has mask\n",
            "with_mask/with_mask_1159.jpg\n",
            "has mask\n",
            "with_mask/with_mask_116.jpg\n",
            "has mask\n",
            "with_mask/with_mask_1161.jpg\n",
            "has mask\n",
            "with_mask/with_mask_1162.jpg\n",
            "has mask\n",
            "with_mask/with_mask_1163.jpg\n",
            "has mask\n",
            "with_mask/with_mask_1164.jpg\n",
            "has mask\n",
            "with_mask/with_mask_1165.jpg\n",
            "has mask\n",
            "with_mask/with_mask_1166.jpg\n",
            "has mask\n",
            "with_mask/with_mask_1167.jpg\n",
            "has mask\n",
            "with_mask/with_mask_1168.jpg\n",
            "has mask\n",
            "with_mask/with_mask_1169.jpg\n",
            "has mask\n",
            "with_mask/with_mask_117.jpg\n",
            "has mask\n",
            "with_mask/with_mask_1170.jpg\n",
            "has mask\n",
            "with_mask/with_mask_1171.jpg\n",
            "has mask\n",
            "with_mask/with_mask_1173.jpg\n",
            "no mask\n",
            "with_mask/with_mask_1177.jpg\n",
            "has mask\n",
            "with_mask/with_mask_1178.jpg\n",
            "has mask\n",
            "with_mask/with_mask_1179.jpg\n",
            "has mask\n",
            "with_mask/with_mask_118.jpg\n",
            "has mask\n"
          ]
        }
      ]
    }
  ]
}